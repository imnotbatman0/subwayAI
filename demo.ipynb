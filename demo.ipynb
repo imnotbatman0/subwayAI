{
 "cells": [
  {
   "cell_type": "code",
   "execution_count": null,
   "metadata": {},
   "outputs": [],
   "source": [
    "import numpy as np\n",
    "import os\n",
    "import PIL.Image\n",
    "os.environ['TF_CPP_MIN_LOG_LEVEL'] = '3'\n",
    "import pathlib\n",
    "from tensorflow import keras\n",
    "import tensorflow as tf\n",
    "import matplotlib.pyplot as plt"
   ]
  },
  {
   "cell_type": "code",
   "execution_count": 8,
   "metadata": {},
   "outputs": [
    {
     "name": "stdout",
     "output_type": "stream",
     "text": [
      "Num GPUs Available: 1\n",
      "Using cuDNN: True\n"
     ]
    }
   ],
   "source": [
    "# Ensure TensorFlow is using GPU\n",
    "print(\"Num GPUs Available:\", len(tf.config.list_physical_devices('GPU')))\n",
    "print(\"Using cuDNN:\", tf.test.is_built_with_cuda())"
   ]
  },
  {
   "cell_type": "code",
   "execution_count": 18,
   "metadata": {},
   "outputs": [
    {
     "name": "stdout",
     "output_type": "stream",
     "text": [
      "Found 74 files belonging to 5 classes.\n",
      "Using 60 files for training.\n",
      "Found 74 files belonging to 5 classes.\n",
      "Using 14 files for validation.\n",
      "['jump', 'left', 'nope', 'right', 'roll']\n"
     ]
    }
   ],
   "source": [
    "\n",
    "data_dir = pathlib.Path(\"/home/thanuj/Semester4/aiml/myown/subwayAI/dataset\")\n",
    "\n",
    "batch_size = 32\n",
    "img_height = 1920\n",
    "img_width = 3072\n",
    "\n",
    "train_ds = keras.utils.image_dataset_from_directory(\n",
    "    data_dir,\n",
    "    validation_split = 0.2,\n",
    "    subset= \"training\",\n",
    "    seed= 69,\n",
    "    image_size=(img_height, img_width),\n",
    "    batch_size= batch_size\n",
    ")\n",
    "\n",
    "test_ds = keras.utils.image_dataset_from_directory(\n",
    "    data_dir,\n",
    "    validation_split=0.2,\n",
    "    subset=\"validation\",\n",
    "    seed=69,\n",
    "    image_size=(img_height, img_width),\n",
    "    batch_size= batch_size    \n",
    ")\n",
    "\n",
    "class_names = train_ds.class_names\n",
    "print(class_names)\n",
    "\n",
    "normalization_layer = keras.layers.Rescaling(1./255)\n",
    "\n"
   ]
  },
  {
   "cell_type": "code",
   "execution_count": null,
   "metadata": {},
   "outputs": [
    {
     "name": "stderr",
     "output_type": "stream",
     "text": [
      "W0000 00:00:1741029598.893541   44838 device_host_allocator.h:61] could not allocate pinned host memory of size: 4294967296\n",
      "W0000 00:00:1741029604.111946   44838 device_host_allocator.h:61] could not allocate pinned host memory of size: 3865470464\n",
      "W0000 00:00:1741029609.268188   44838 device_host_allocator.h:61] could not allocate pinned host memory of size: 3478923264\n"
     ]
    }
   ],
   "source": [
    "for images, labels in train_ds.take(1):  # Take one batch\n",
    "    print(images.shape)  # (batch_size, img_height, img_width, channels)\n",
    "    print(labels.shape)  # (batch_size,)\n",
    "\n",
    "    # Access a specific image and label (e.g., first image in the batch)\n",
    "    import matplotlib.pyplot as plt\n",
    "    plt.imshow(images[14].numpy())  # Convert tensor to NumPy and display\n",
    "    plt.show()\n",
    "    print(\"Label:\", labels[14].numpy())  # Print corresponding label\n",
    "\n",
    "# train_list = list(train_ds)\n",
    "# img, lab = train_list[0]\n",
    "# print(img.shape, lab.shape)\n",
    "\n",
    "# plt.figure()\n",
    "# plt.imshow(img[0].numpy())\n",
    "# plt.show()"
   ]
  },
  {
   "cell_type": "code",
   "execution_count": null,
   "metadata": {},
   "outputs": [],
   "source": []
  }
 ],
 "metadata": {
  "kernelspec": {
   "display_name": "tf-gpu",
   "language": "python",
   "name": "python3"
  },
  "language_info": {
   "codemirror_mode": {
    "name": "ipython",
    "version": 3
   },
   "file_extension": ".py",
   "mimetype": "text/x-python",
   "name": "python",
   "nbconvert_exporter": "python",
   "pygments_lexer": "ipython3",
   "version": "3.9.21"
  }
 },
 "nbformat": 4,
 "nbformat_minor": 2
}
